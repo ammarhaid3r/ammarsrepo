{
 "cells": [
  {
   "cell_type": "markdown",
   "id": "799723ed",
   "metadata": {},
   "source": [
    "# Data Science Tools and Ecosystem"
   ]
  },
  {
   "cell_type": "markdown",
   "id": "4dc53fe3",
   "metadata": {},
   "source": [
    "In this notebook, Data Science Tools and Ecosystem are summarized\n",
    "# **Objectives**\n",
    "+ Python\n",
    "+ SQL\n",
    "+ Java\n",
    "+ R\n",
    "+ Scala\n",
    "+ Julia"
   ]
  },
  {
   "cell_type": "markdown",
   "id": "3199e3fd",
   "metadata": {},
   "source": [
    "# Some of the popular languages that Data Scientists use are:\n",
    "## 1. Python\n",
    "## 2. Java\n",
    "## 3. SQL"
   ]
  },
  {
   "cell_type": "markdown",
   "id": "ab6518b0",
   "metadata": {},
   "source": [
    "# Some of the commonly used libraries used by Data Scientists include:\n",
    "## 1. NumPy\n",
    "## 2. Sci-kit Learn\n",
    "## 3.ggplot2\n"
   ]
  },
  {
   "cell_type": "markdown",
   "id": "85c73b17",
   "metadata": {},
   "source": [
    "|Data Science Tools|\n",
    "|-|\n",
    "|Jupyter Lab|\n",
    "|Apache Zeppelin|\n",
    "|R studio|"
   ]
  },
  {
   "cell_type": "markdown",
   "id": "747f51ad",
   "metadata": {},
   "source": [
    "### Below are a few examples of evaluating arithmetic expressions in Python"
   ]
  },
  {
   "cell_type": "code",
   "execution_count": 3,
   "id": "afa3ecc6",
   "metadata": {},
   "outputs": [
    {
     "data": {
      "text/plain": [
       "17"
      ]
     },
     "execution_count": 3,
     "metadata": {},
     "output_type": "execute_result"
    }
   ],
   "source": [
    "#This a simple arithmetic expression to mutiply then add integers\n",
    "(3*4)+5"
   ]
  },
  {
   "cell_type": "code",
   "execution_count": 15,
   "id": "c97a9c7e",
   "metadata": {},
   "outputs": [
    {
     "data": {
      "text/plain": [
       "3.3333333333333335"
      ]
     },
     "execution_count": 15,
     "metadata": {},
     "output_type": "execute_result"
    }
   ],
   "source": [
    "#This will convert 200 minutes to hours by diving by 60\n",
    "(200/60)"
   ]
  },
  {
   "cell_type": "markdown",
   "id": "cbbe149a",
   "metadata": {},
   "source": [
    "## Author\n",
    "Ammar"
   ]
  },
  {
   "cell_type": "code",
   "execution_count": null,
   "id": "a619cd44",
   "metadata": {},
   "outputs": [],
   "source": []
  }
 ],
 "metadata": {
  "kernelspec": {
   "display_name": "Python 3 (ipykernel)",
   "language": "python",
   "name": "python3"
  },
  "language_info": {
   "codemirror_mode": {
    "name": "ipython",
    "version": 3
   },
   "file_extension": ".py",
   "mimetype": "text/x-python",
   "name": "python",
   "nbconvert_exporter": "python",
   "pygments_lexer": "ipython3",
   "version": "3.10.9"
  }
 },
 "nbformat": 4,
 "nbformat_minor": 5
}
